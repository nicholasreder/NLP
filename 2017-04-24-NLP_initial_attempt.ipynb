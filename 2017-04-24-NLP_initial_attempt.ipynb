{
 "cells": [
  {
   "cell_type": "code",
   "execution_count": 1,
   "metadata": {
    "collapsed": false
   },
   "outputs": [],
   "source": [
    "import nltk"
   ]
  },
  {
   "cell_type": "code",
   "execution_count": 9,
   "metadata": {
    "collapsed": false
   },
   "outputs": [],
   "source": [
    "with open (\"NLP_sample_reports.txt.txt\", \"r\") as myfile:\n",
    "    data=myfile.readlines()"
   ]
  },
  {
   "cell_type": "code",
   "execution_count": 12,
   "metadata": {
    "collapsed": true
   },
   "outputs": [
    {
     "ename": "TypeError",
     "evalue": "expected string or bytes-like object",
     "output_type": "error",
     "traceback": [
      "\u001b[0;31m---------------------------------------------------------------------------\u001b[0m",
      "\u001b[0;31mTypeError\u001b[0m                                 Traceback (most recent call last)",
      "\u001b[0;32m<ipython-input-12-ae2a1cf21336>\u001b[0m in \u001b[0;36m<module>\u001b[0;34m()\u001b[0m\n\u001b[0;32m----> 1\u001b[0;31m \u001b[0mtokens\u001b[0m \u001b[0;34m=\u001b[0m \u001b[0mnltk\u001b[0m\u001b[0;34m.\u001b[0m\u001b[0msent_tokenize\u001b[0m\u001b[0;34m(\u001b[0m\u001b[0mdata\u001b[0m\u001b[0;34m)\u001b[0m\u001b[0;34m\u001b[0m\u001b[0m\n\u001b[0m\u001b[1;32m      2\u001b[0m \u001b[0;34m\u001b[0m\u001b[0m\n",
      "\u001b[0;32m/Users/nicholasreder/anaconda/lib/python3.5/site-packages/nltk/tokenize/__init__.py\u001b[0m in \u001b[0;36msent_tokenize\u001b[0;34m(text, language)\u001b[0m\n\u001b[1;32m     89\u001b[0m     \"\"\"\n\u001b[1;32m     90\u001b[0m     \u001b[0mtokenizer\u001b[0m \u001b[0;34m=\u001b[0m \u001b[0mload\u001b[0m\u001b[0;34m(\u001b[0m\u001b[0;34m'tokenizers/punkt/{0}.pickle'\u001b[0m\u001b[0;34m.\u001b[0m\u001b[0mformat\u001b[0m\u001b[0;34m(\u001b[0m\u001b[0mlanguage\u001b[0m\u001b[0;34m)\u001b[0m\u001b[0;34m)\u001b[0m\u001b[0;34m\u001b[0m\u001b[0m\n\u001b[0;32m---> 91\u001b[0;31m     \u001b[0;32mreturn\u001b[0m \u001b[0mtokenizer\u001b[0m\u001b[0;34m.\u001b[0m\u001b[0mtokenize\u001b[0m\u001b[0;34m(\u001b[0m\u001b[0mtext\u001b[0m\u001b[0;34m)\u001b[0m\u001b[0;34m\u001b[0m\u001b[0m\n\u001b[0m\u001b[1;32m     92\u001b[0m \u001b[0;34m\u001b[0m\u001b[0m\n\u001b[1;32m     93\u001b[0m \u001b[0;31m# Standard word tokenizer.\u001b[0m\u001b[0;34m\u001b[0m\u001b[0;34m\u001b[0m\u001b[0m\n",
      "\u001b[0;32m/Users/nicholasreder/anaconda/lib/python3.5/site-packages/nltk/tokenize/punkt.py\u001b[0m in \u001b[0;36mtokenize\u001b[0;34m(self, text, realign_boundaries)\u001b[0m\n\u001b[1;32m   1224\u001b[0m         \u001b[0mGiven\u001b[0m \u001b[0ma\u001b[0m \u001b[0mtext\u001b[0m\u001b[0;34m,\u001b[0m \u001b[0mreturns\u001b[0m \u001b[0ma\u001b[0m \u001b[0mlist\u001b[0m \u001b[0mof\u001b[0m \u001b[0mthe\u001b[0m \u001b[0msentences\u001b[0m \u001b[0;32min\u001b[0m \u001b[0mthat\u001b[0m \u001b[0mtext\u001b[0m\u001b[0;34m.\u001b[0m\u001b[0;34m\u001b[0m\u001b[0m\n\u001b[1;32m   1225\u001b[0m         \"\"\"\n\u001b[0;32m-> 1226\u001b[0;31m         \u001b[0;32mreturn\u001b[0m \u001b[0mlist\u001b[0m\u001b[0;34m(\u001b[0m\u001b[0mself\u001b[0m\u001b[0;34m.\u001b[0m\u001b[0msentences_from_text\u001b[0m\u001b[0;34m(\u001b[0m\u001b[0mtext\u001b[0m\u001b[0;34m,\u001b[0m \u001b[0mrealign_boundaries\u001b[0m\u001b[0;34m)\u001b[0m\u001b[0;34m)\u001b[0m\u001b[0;34m\u001b[0m\u001b[0m\n\u001b[0m\u001b[1;32m   1227\u001b[0m \u001b[0;34m\u001b[0m\u001b[0m\n\u001b[1;32m   1228\u001b[0m     \u001b[0;32mdef\u001b[0m \u001b[0mdebug_decisions\u001b[0m\u001b[0;34m(\u001b[0m\u001b[0mself\u001b[0m\u001b[0;34m,\u001b[0m \u001b[0mtext\u001b[0m\u001b[0;34m)\u001b[0m\u001b[0;34m:\u001b[0m\u001b[0;34m\u001b[0m\u001b[0m\n",
      "\u001b[0;32m/Users/nicholasreder/anaconda/lib/python3.5/site-packages/nltk/tokenize/punkt.py\u001b[0m in \u001b[0;36msentences_from_text\u001b[0;34m(self, text, realign_boundaries)\u001b[0m\n\u001b[1;32m   1272\u001b[0m         \u001b[0mfollows\u001b[0m \u001b[0mthe\u001b[0m \u001b[0mperiod\u001b[0m\u001b[0;34m.\u001b[0m\u001b[0;34m\u001b[0m\u001b[0m\n\u001b[1;32m   1273\u001b[0m         \"\"\"\n\u001b[0;32m-> 1274\u001b[0;31m         \u001b[0;32mreturn\u001b[0m \u001b[0;34m[\u001b[0m\u001b[0mtext\u001b[0m\u001b[0;34m[\u001b[0m\u001b[0ms\u001b[0m\u001b[0;34m:\u001b[0m\u001b[0me\u001b[0m\u001b[0;34m]\u001b[0m \u001b[0;32mfor\u001b[0m \u001b[0ms\u001b[0m\u001b[0;34m,\u001b[0m \u001b[0me\u001b[0m \u001b[0;32min\u001b[0m \u001b[0mself\u001b[0m\u001b[0;34m.\u001b[0m\u001b[0mspan_tokenize\u001b[0m\u001b[0;34m(\u001b[0m\u001b[0mtext\u001b[0m\u001b[0;34m,\u001b[0m \u001b[0mrealign_boundaries\u001b[0m\u001b[0;34m)\u001b[0m\u001b[0;34m]\u001b[0m\u001b[0;34m\u001b[0m\u001b[0m\n\u001b[0m\u001b[1;32m   1275\u001b[0m \u001b[0;34m\u001b[0m\u001b[0m\n\u001b[1;32m   1276\u001b[0m     \u001b[0;32mdef\u001b[0m \u001b[0m_slices_from_text\u001b[0m\u001b[0;34m(\u001b[0m\u001b[0mself\u001b[0m\u001b[0;34m,\u001b[0m \u001b[0mtext\u001b[0m\u001b[0;34m)\u001b[0m\u001b[0;34m:\u001b[0m\u001b[0;34m\u001b[0m\u001b[0m\n",
      "\u001b[0;32m/Users/nicholasreder/anaconda/lib/python3.5/site-packages/nltk/tokenize/punkt.py\u001b[0m in \u001b[0;36mspan_tokenize\u001b[0;34m(self, text, realign_boundaries)\u001b[0m\n\u001b[1;32m   1263\u001b[0m         \u001b[0;32mif\u001b[0m \u001b[0mrealign_boundaries\u001b[0m\u001b[0;34m:\u001b[0m\u001b[0;34m\u001b[0m\u001b[0m\n\u001b[1;32m   1264\u001b[0m             \u001b[0mslices\u001b[0m \u001b[0;34m=\u001b[0m \u001b[0mself\u001b[0m\u001b[0;34m.\u001b[0m\u001b[0m_realign_boundaries\u001b[0m\u001b[0;34m(\u001b[0m\u001b[0mtext\u001b[0m\u001b[0;34m,\u001b[0m \u001b[0mslices\u001b[0m\u001b[0;34m)\u001b[0m\u001b[0;34m\u001b[0m\u001b[0m\n\u001b[0;32m-> 1265\u001b[0;31m         \u001b[0;32mreturn\u001b[0m \u001b[0;34m[\u001b[0m\u001b[0;34m(\u001b[0m\u001b[0msl\u001b[0m\u001b[0;34m.\u001b[0m\u001b[0mstart\u001b[0m\u001b[0;34m,\u001b[0m \u001b[0msl\u001b[0m\u001b[0;34m.\u001b[0m\u001b[0mstop\u001b[0m\u001b[0;34m)\u001b[0m \u001b[0;32mfor\u001b[0m \u001b[0msl\u001b[0m \u001b[0;32min\u001b[0m \u001b[0mslices\u001b[0m\u001b[0;34m]\u001b[0m\u001b[0;34m\u001b[0m\u001b[0m\n\u001b[0m\u001b[1;32m   1266\u001b[0m \u001b[0;34m\u001b[0m\u001b[0m\n\u001b[1;32m   1267\u001b[0m     \u001b[0;32mdef\u001b[0m \u001b[0msentences_from_text\u001b[0m\u001b[0;34m(\u001b[0m\u001b[0mself\u001b[0m\u001b[0;34m,\u001b[0m \u001b[0mtext\u001b[0m\u001b[0;34m,\u001b[0m \u001b[0mrealign_boundaries\u001b[0m\u001b[0;34m=\u001b[0m\u001b[0;32mTrue\u001b[0m\u001b[0;34m)\u001b[0m\u001b[0;34m:\u001b[0m\u001b[0;34m\u001b[0m\u001b[0m\n",
      "\u001b[0;32m/Users/nicholasreder/anaconda/lib/python3.5/site-packages/nltk/tokenize/punkt.py\u001b[0m in \u001b[0;36m<listcomp>\u001b[0;34m(.0)\u001b[0m\n\u001b[1;32m   1263\u001b[0m         \u001b[0;32mif\u001b[0m \u001b[0mrealign_boundaries\u001b[0m\u001b[0;34m:\u001b[0m\u001b[0;34m\u001b[0m\u001b[0m\n\u001b[1;32m   1264\u001b[0m             \u001b[0mslices\u001b[0m \u001b[0;34m=\u001b[0m \u001b[0mself\u001b[0m\u001b[0;34m.\u001b[0m\u001b[0m_realign_boundaries\u001b[0m\u001b[0;34m(\u001b[0m\u001b[0mtext\u001b[0m\u001b[0;34m,\u001b[0m \u001b[0mslices\u001b[0m\u001b[0;34m)\u001b[0m\u001b[0;34m\u001b[0m\u001b[0m\n\u001b[0;32m-> 1265\u001b[0;31m         \u001b[0;32mreturn\u001b[0m \u001b[0;34m[\u001b[0m\u001b[0;34m(\u001b[0m\u001b[0msl\u001b[0m\u001b[0;34m.\u001b[0m\u001b[0mstart\u001b[0m\u001b[0;34m,\u001b[0m \u001b[0msl\u001b[0m\u001b[0;34m.\u001b[0m\u001b[0mstop\u001b[0m\u001b[0;34m)\u001b[0m \u001b[0;32mfor\u001b[0m \u001b[0msl\u001b[0m \u001b[0;32min\u001b[0m \u001b[0mslices\u001b[0m\u001b[0;34m]\u001b[0m\u001b[0;34m\u001b[0m\u001b[0m\n\u001b[0m\u001b[1;32m   1266\u001b[0m \u001b[0;34m\u001b[0m\u001b[0m\n\u001b[1;32m   1267\u001b[0m     \u001b[0;32mdef\u001b[0m \u001b[0msentences_from_text\u001b[0m\u001b[0;34m(\u001b[0m\u001b[0mself\u001b[0m\u001b[0;34m,\u001b[0m \u001b[0mtext\u001b[0m\u001b[0;34m,\u001b[0m \u001b[0mrealign_boundaries\u001b[0m\u001b[0;34m=\u001b[0m\u001b[0;32mTrue\u001b[0m\u001b[0;34m)\u001b[0m\u001b[0;34m:\u001b[0m\u001b[0;34m\u001b[0m\u001b[0m\n",
      "\u001b[0;32m/Users/nicholasreder/anaconda/lib/python3.5/site-packages/nltk/tokenize/punkt.py\u001b[0m in \u001b[0;36m_realign_boundaries\u001b[0;34m(self, text, slices)\u001b[0m\n\u001b[1;32m   1302\u001b[0m         \"\"\"\n\u001b[1;32m   1303\u001b[0m         \u001b[0mrealign\u001b[0m \u001b[0;34m=\u001b[0m \u001b[0;36m0\u001b[0m\u001b[0;34m\u001b[0m\u001b[0m\n\u001b[0;32m-> 1304\u001b[0;31m         \u001b[0;32mfor\u001b[0m \u001b[0msl1\u001b[0m\u001b[0;34m,\u001b[0m \u001b[0msl2\u001b[0m \u001b[0;32min\u001b[0m \u001b[0m_pair_iter\u001b[0m\u001b[0;34m(\u001b[0m\u001b[0mslices\u001b[0m\u001b[0;34m)\u001b[0m\u001b[0;34m:\u001b[0m\u001b[0;34m\u001b[0m\u001b[0m\n\u001b[0m\u001b[1;32m   1305\u001b[0m             \u001b[0msl1\u001b[0m \u001b[0;34m=\u001b[0m \u001b[0mslice\u001b[0m\u001b[0;34m(\u001b[0m\u001b[0msl1\u001b[0m\u001b[0;34m.\u001b[0m\u001b[0mstart\u001b[0m \u001b[0;34m+\u001b[0m \u001b[0mrealign\u001b[0m\u001b[0;34m,\u001b[0m \u001b[0msl1\u001b[0m\u001b[0;34m.\u001b[0m\u001b[0mstop\u001b[0m\u001b[0;34m)\u001b[0m\u001b[0;34m\u001b[0m\u001b[0m\n\u001b[1;32m   1306\u001b[0m             \u001b[0;32mif\u001b[0m \u001b[0;32mnot\u001b[0m \u001b[0msl2\u001b[0m\u001b[0;34m:\u001b[0m\u001b[0;34m\u001b[0m\u001b[0m\n",
      "\u001b[0;32m/Users/nicholasreder/anaconda/lib/python3.5/site-packages/nltk/tokenize/punkt.py\u001b[0m in \u001b[0;36m_pair_iter\u001b[0;34m(it)\u001b[0m\n\u001b[1;32m    308\u001b[0m     \"\"\"\n\u001b[1;32m    309\u001b[0m     \u001b[0mit\u001b[0m \u001b[0;34m=\u001b[0m \u001b[0miter\u001b[0m\u001b[0;34m(\u001b[0m\u001b[0mit\u001b[0m\u001b[0;34m)\u001b[0m\u001b[0;34m\u001b[0m\u001b[0m\n\u001b[0;32m--> 310\u001b[0;31m     \u001b[0mprev\u001b[0m \u001b[0;34m=\u001b[0m \u001b[0mnext\u001b[0m\u001b[0;34m(\u001b[0m\u001b[0mit\u001b[0m\u001b[0;34m)\u001b[0m\u001b[0;34m\u001b[0m\u001b[0m\n\u001b[0m\u001b[1;32m    311\u001b[0m     \u001b[0;32mfor\u001b[0m \u001b[0mel\u001b[0m \u001b[0;32min\u001b[0m \u001b[0mit\u001b[0m\u001b[0;34m:\u001b[0m\u001b[0;34m\u001b[0m\u001b[0m\n\u001b[1;32m    312\u001b[0m         \u001b[0;32myield\u001b[0m \u001b[0;34m(\u001b[0m\u001b[0mprev\u001b[0m\u001b[0;34m,\u001b[0m \u001b[0mel\u001b[0m\u001b[0;34m)\u001b[0m\u001b[0;34m\u001b[0m\u001b[0m\n",
      "\u001b[0;32m/Users/nicholasreder/anaconda/lib/python3.5/site-packages/nltk/tokenize/punkt.py\u001b[0m in \u001b[0;36m_slices_from_text\u001b[0;34m(self, text)\u001b[0m\n\u001b[1;32m   1276\u001b[0m     \u001b[0;32mdef\u001b[0m \u001b[0m_slices_from_text\u001b[0m\u001b[0;34m(\u001b[0m\u001b[0mself\u001b[0m\u001b[0;34m,\u001b[0m \u001b[0mtext\u001b[0m\u001b[0;34m)\u001b[0m\u001b[0;34m:\u001b[0m\u001b[0;34m\u001b[0m\u001b[0m\n\u001b[1;32m   1277\u001b[0m         \u001b[0mlast_break\u001b[0m \u001b[0;34m=\u001b[0m \u001b[0;36m0\u001b[0m\u001b[0;34m\u001b[0m\u001b[0m\n\u001b[0;32m-> 1278\u001b[0;31m         \u001b[0;32mfor\u001b[0m \u001b[0mmatch\u001b[0m \u001b[0;32min\u001b[0m \u001b[0mself\u001b[0m\u001b[0;34m.\u001b[0m\u001b[0m_lang_vars\u001b[0m\u001b[0;34m.\u001b[0m\u001b[0mperiod_context_re\u001b[0m\u001b[0;34m(\u001b[0m\u001b[0;34m)\u001b[0m\u001b[0;34m.\u001b[0m\u001b[0mfinditer\u001b[0m\u001b[0;34m(\u001b[0m\u001b[0mtext\u001b[0m\u001b[0;34m)\u001b[0m\u001b[0;34m:\u001b[0m\u001b[0;34m\u001b[0m\u001b[0m\n\u001b[0m\u001b[1;32m   1279\u001b[0m             \u001b[0mcontext\u001b[0m \u001b[0;34m=\u001b[0m \u001b[0mmatch\u001b[0m\u001b[0;34m.\u001b[0m\u001b[0mgroup\u001b[0m\u001b[0;34m(\u001b[0m\u001b[0;34m)\u001b[0m \u001b[0;34m+\u001b[0m \u001b[0mmatch\u001b[0m\u001b[0;34m.\u001b[0m\u001b[0mgroup\u001b[0m\u001b[0;34m(\u001b[0m\u001b[0;34m'after_tok'\u001b[0m\u001b[0;34m)\u001b[0m\u001b[0;34m\u001b[0m\u001b[0m\n\u001b[1;32m   1280\u001b[0m             \u001b[0;32mif\u001b[0m \u001b[0mself\u001b[0m\u001b[0;34m.\u001b[0m\u001b[0mtext_contains_sentbreak\u001b[0m\u001b[0;34m(\u001b[0m\u001b[0mcontext\u001b[0m\u001b[0;34m)\u001b[0m\u001b[0;34m:\u001b[0m\u001b[0;34m\u001b[0m\u001b[0m\n",
      "\u001b[0;31mTypeError\u001b[0m: expected string or bytes-like object"
     ]
    }
   ],
   "source": [
    "tokens = nltk.sent_tokenize(data)\n",
    "    "
   ]
  },
  {
   "cell_type": "code",
   "execution_count": 14,
   "metadata": {
    "collapsed": false
   },
   "outputs": [
    {
     "data": {
      "text/plain": [
       "list"
      ]
     },
     "execution_count": 14,
     "metadata": {},
     "output_type": "execute_result"
    }
   ],
   "source": [
    "type(data)"
   ]
  },
  {
   "cell_type": "code",
   "execution_count": 15,
   "metadata": {
    "collapsed": true
   },
   "outputs": [],
   "source": [
    "str1 = ''.join(data)"
   ]
  },
  {
   "cell_type": "code",
   "execution_count": 16,
   "metadata": {
    "collapsed": false
   },
   "outputs": [
    {
     "data": {
      "text/plain": [
       "str"
      ]
     },
     "execution_count": 16,
     "metadata": {},
     "output_type": "execute_result"
    }
   ],
   "source": [
    "type(str1)"
   ]
  },
  {
   "cell_type": "code",
   "execution_count": 34,
   "metadata": {
    "collapsed": false
   },
   "outputs": [
    {
     "ename": "ValueError",
     "evalue": "too many values to unpack (expected 2)",
     "output_type": "error",
     "traceback": [
      "\u001b[0;31m---------------------------------------------------------------------------\u001b[0m",
      "\u001b[0;31mValueError\u001b[0m                                Traceback (most recent call last)",
      "\u001b[0;32m<ipython-input-34-2f864b1ffb2e>\u001b[0m in \u001b[0;36m<module>\u001b[0;34m()\u001b[0m\n\u001b[0;32m----> 1\u001b[0;31m \u001b[0mmydict\u001b[0m \u001b[0;34m=\u001b[0m \u001b[0mdict\u001b[0m\u001b[0;34m(\u001b[0m\u001b[0;34m(\u001b[0m\u001b[0mk\u001b[0m\u001b[0;34m.\u001b[0m\u001b[0mstrip\u001b[0m\u001b[0;34m(\u001b[0m\u001b[0;34m)\u001b[0m\u001b[0;34m,\u001b[0m \u001b[0mv\u001b[0m\u001b[0;34m.\u001b[0m\u001b[0mstrip\u001b[0m\u001b[0;34m(\u001b[0m\u001b[0;34m)\u001b[0m\u001b[0;34m)\u001b[0m \u001b[0;32mfor\u001b[0m \u001b[0mk\u001b[0m\u001b[0;34m,\u001b[0m\u001b[0mv\u001b[0m \u001b[0;32min\u001b[0m \u001b[0;34m(\u001b[0m\u001b[0mitem\u001b[0m\u001b[0;34m.\u001b[0m\u001b[0msplit\u001b[0m\u001b[0;34m(\u001b[0m\u001b[0;34m':'\u001b[0m\u001b[0;34m)\u001b[0m \u001b[0;32mfor\u001b[0m \u001b[0mitem\u001b[0m \u001b[0;32min\u001b[0m \u001b[0mstr1\u001b[0m\u001b[0;34m.\u001b[0m\u001b[0msplit\u001b[0m\u001b[0;34m(\u001b[0m\u001b[0;34m'/n'\u001b[0m\u001b[0;34m)\u001b[0m\u001b[0;34m)\u001b[0m\u001b[0;34m)\u001b[0m\u001b[0;34m\u001b[0m\u001b[0m\n\u001b[0m",
      "\u001b[0;32m<ipython-input-34-2f864b1ffb2e>\u001b[0m in \u001b[0;36m<genexpr>\u001b[0;34m(.0)\u001b[0m\n\u001b[0;32m----> 1\u001b[0;31m \u001b[0mmydict\u001b[0m \u001b[0;34m=\u001b[0m \u001b[0mdict\u001b[0m\u001b[0;34m(\u001b[0m\u001b[0;34m(\u001b[0m\u001b[0mk\u001b[0m\u001b[0;34m.\u001b[0m\u001b[0mstrip\u001b[0m\u001b[0;34m(\u001b[0m\u001b[0;34m)\u001b[0m\u001b[0;34m,\u001b[0m \u001b[0mv\u001b[0m\u001b[0;34m.\u001b[0m\u001b[0mstrip\u001b[0m\u001b[0;34m(\u001b[0m\u001b[0;34m)\u001b[0m\u001b[0;34m)\u001b[0m \u001b[0;32mfor\u001b[0m \u001b[0mk\u001b[0m\u001b[0;34m,\u001b[0m\u001b[0mv\u001b[0m \u001b[0;32min\u001b[0m \u001b[0;34m(\u001b[0m\u001b[0mitem\u001b[0m\u001b[0;34m.\u001b[0m\u001b[0msplit\u001b[0m\u001b[0;34m(\u001b[0m\u001b[0;34m':'\u001b[0m\u001b[0;34m)\u001b[0m \u001b[0;32mfor\u001b[0m \u001b[0mitem\u001b[0m \u001b[0;32min\u001b[0m \u001b[0mstr1\u001b[0m\u001b[0;34m.\u001b[0m\u001b[0msplit\u001b[0m\u001b[0;34m(\u001b[0m\u001b[0;34m'/n'\u001b[0m\u001b[0;34m)\u001b[0m\u001b[0;34m)\u001b[0m\u001b[0;34m)\u001b[0m\u001b[0;34m\u001b[0m\u001b[0m\n\u001b[0m",
      "\u001b[0;31mValueError\u001b[0m: too many values to unpack (expected 2)"
     ]
    }
   ],
   "source": [
    "mydict = dict((k.strip(), v.strip()) for k,v in (item.split(':') for item in str1.split('/n')))"
   ]
  },
  {
   "cell_type": "code",
   "execution_count": 36,
   "metadata": {
    "collapsed": false
   },
   "outputs": [
    {
     "ename": "ValueError",
     "evalue": "invalid literal for int() with base 10: '\\ufeffSUMMARY CANCER DATA'",
     "output_type": "error",
     "traceback": [
      "\u001b[0;31m---------------------------------------------------------------------------\u001b[0m",
      "\u001b[0;31mValueError\u001b[0m                                Traceback (most recent call last)",
      "\u001b[0;32m<ipython-input-36-b0d4ea9b71a2>\u001b[0m in \u001b[0;36m<module>\u001b[0;34m()\u001b[0m\n\u001b[0;32m----> 1\u001b[0;31m \u001b[0mdict\u001b[0m\u001b[0;34m(\u001b[0m\u001b[0mmap\u001b[0m\u001b[0;34m(\u001b[0m\u001b[0mint\u001b[0m\u001b[0;34m,\u001b[0m \u001b[0mx\u001b[0m\u001b[0;34m.\u001b[0m\u001b[0msplit\u001b[0m\u001b[0;34m(\u001b[0m\u001b[0;34m':'\u001b[0m\u001b[0;34m)\u001b[0m\u001b[0;34m)\u001b[0m \u001b[0;32mfor\u001b[0m \u001b[0mx\u001b[0m \u001b[0;32min\u001b[0m \u001b[0mdata\u001b[0m\u001b[0;34m)\u001b[0m\u001b[0;34m\u001b[0m\u001b[0m\n\u001b[0m",
      "\u001b[0;31mValueError\u001b[0m: invalid literal for int() with base 10: '\\ufeffSUMMARY CANCER DATA'"
     ]
    }
   ],
   "source": [
    "dict(map(int, x.split(':')) for x in data) "
   ]
  },
  {
   "cell_type": "code",
   "execution_count": 41,
   "metadata": {
    "collapsed": false
   },
   "outputs": [
    {
     "data": {
      "text/plain": [
       "['\\ufeffSUMMARY CANCER DATA:\\n',\n",
       " 'Specimen and procedure\\n',\n",
       " 'Procedure:        Excision with wire-guided localization\\n',\n",
       " 'Specimen laterality:        Left\\n',\n",
       " 'Invasive carcinoma with the following features:\\n',\n",
       " 'Histologic type:        Invasive ductal carcinoma, NOS (85003)\\n',\n",
       " 'Size (largest focus):        1.2cm\\n',\n",
       " 'Focality of invasive carcinoma:        Single contiguous focus\\n',\n",
       " 'Nottingham Grade:        Grade I: 3-5 points\\n',\n",
       " '    - Tubule Formation:        1 point (> 75%)\\n',\n",
       " '    - Nuclear Pleomorphism:        2 points (moderate)\\n',\n",
       " '    - Mitotic Activity:        1 point\\n',\n",
       " 'Ancillary Studies\\n',\n",
       " 'Source:        Outside pathology lab (slides reviewed)\\n',\n",
       " 'Comment:        SU-14-22423\\n',\n",
       " 'Estrogen receptor:        Positive (Allred score = 8 of 8)\\n',\n",
       " 'Progesterone receptor:        Positive (Allred score = 4 of 8)\\n',\n",
       " 'c-erb-B2 (Her-2/neu) by IHC:        Negative for Her-2/neu overexpression by IHC\\n',\n",
       " 'Her-2/neu by FISH:        Not performed/reported\\n',\n",
       " 'Skin status:        Cannot assess (skin not present)\\n',\n",
       " 'Nipple status:        Cannot assess (nipple not present)\\n',\n",
       " 'Skeletal muscle status:        Skeletal muscle not present\\n',\n",
       " 'Ductal carcinoma in-situ (DCIS):        Present (85002)\\n',\n",
       " 'Nuclear grade of DCIS:        Intermediate\\n',\n",
       " 'DCIS qualifies as \"extensive intraductal component\"?:        No\\n',\n",
       " 'Lobular carcinoma in-situ (LCIS):        Absent\\n',\n",
       " 'Changes consistent with previous biopsy site:        Present\\n',\n",
       " 'Microcalcifications:        Present in non-neoplastic tissue\\n',\n",
       " 'Present in DCIS\\n',\n",
       " 'Present in invasive carcinoma\\n',\n",
       " 'Final surgical resection margins (including separately submitted margins):\\n',\n",
       " 'Invasive carcinoma margins:        Carcinoma present at at least one margin\\n',\n",
       " 'Invasive carcinoma margin detail:\\n',\n",
       " 'Invasive carcinoma present at medial margin in separately submitted specimen (C).\\n',\n",
       " 'Invasive carcinoma > 0.5 cm from all other margins in lumpectomy specimen.\\n',\n",
       " 'DCIS margin:        DCIS >= 0.5 cm from all margins\\n',\n",
       " 'Lymph node involvement\\n',\n",
       " 'Sentinel nodes:        Sentinel nodes with carcinoma 1    / Total sentinel nodes 1\\n',\n",
       " 'Non-sentinel nodes:        Non-sentinel nodes with carcinoma: 0    / Total non-sentinel nodes: 0\\n',\n",
       " '      - Total number of nodes with macrometastases:        1\\n',\n",
       " '      - Total number of nodes with micrometastases:        0\\n',\n",
       " '      - Total number of nodes with isolated tumor cells:        0\\n',\n",
       " '    Size of largest metastatic focus:        0.21cm\\n',\n",
       " 'Extracapsular Extension:        Not identified\\n',\n",
       " 'Minimum pathologic stage (AJCC, 7th ed., 2010)\\n',\n",
       " '\\n',\n",
       " '\\n',\n",
       " 'SUMMARY CANCER DATA:\\n',\n",
       " 'Specimen and procedure\\n',\n",
       " 'Procedure:        Excision without wire-guided localization\\n',\n",
       " 'Specimen laterality:        Right\\n',\n",
       " 'Label/description of most important specimen:        Lumpectomy and sentinel lymph node biopsy\\n',\n",
       " 'Invasive carcinoma with the following features:\\n',\n",
       " 'Histologic type:        Invasive lobular carcinoma, NOS (85203)\\n',\n",
       " 'Size (largest focus):        0.9cm\\n',\n",
       " 'Focality of invasive carcinoma:        Single contiguous focus\\n',\n",
       " 'Nottingham Grade:        Grade II: 6-7 points\\n',\n",
       " '    - Tubule Formation:        3 points (< 10%)\\n',\n",
       " '    - Nuclear Pleomorphism:        2 points (moderate)\\n',\n",
       " '    - Mitotic Activity:        1 point\\n',\n",
       " 'Ancillary Studies\\n',\n",
       " 'Source:        Previous UW Medicine biopsy\\n',\n",
       " 'Accession number:        SU-14-22998\\n',\n",
       " 'Estrogen receptor:        Positive (Allred score = 8 of 8)\\n',\n",
       " 'Progesterone receptor:        Positive (Allred score = 8 of 8)\\n',\n",
       " 'c-erb-B2 (Her-2/neu) by IHC:\\n',\n",
       " 'Equivocal for Her-2/neu overexpression by IHC; FISH studies will be ordered and reported in an addendum\\n',\n",
       " 'Ki-67 proliferative index:        10%\\n',\n",
       " 'Her-2/neu by FISH:        Negative for Her-2/neu gene amplification by FISH\\n',\n",
       " 'Angiolymphatic Space Invasion:        Not identified\\n',\n",
       " 'Skin status:        Cannot assess (skin not present)\\n',\n",
       " 'Nipple status:        Cannot assess (nipple not present)\\n',\n",
       " 'Skeletal muscle status:        Skeletal muscle not present\\n',\n",
       " 'Ductal carcinoma in-situ (DCIS):        Not identified\\n',\n",
       " 'Lobular carcinoma in-situ (LCIS):        Present (85202)\\n',\n",
       " 'Additional findings:        Other finding(s)\\n',\n",
       " 'Background breast with non-proliferative fibrocystic changes\\n',\n",
       " 'Changes consistent with previous biopsy site:        Present\\n',\n",
       " 'Microcalcifications:        Present in non-neoplastic tissue\\n',\n",
       " 'Final surgical resection margins (including separately submitted margins):\\n',\n",
       " 'Invasive carcinoma margins:        Carcinoma >= 0.2 cm and < 0.5 cm from at least one margin\\n',\n",
       " 'Invasive carcinoma margin detail:\\n',\n",
       " 'Closest superior (0.3 cm) and posterior (0.35 cm) margins; >0.5 cm remaining margins\\n',\n",
       " 'DCIS margin:        Not applicable (no DCIS present)\\n',\n",
       " 'Lymph node involvement\\n',\n",
       " 'Sentinel nodes:        Sentinel nodes with carcinoma 0    / Total sentinel nodes 1\\n',\n",
       " 'Non-sentinel nodes:        Non-sentinel nodes with carcinoma: 0    / Total non-sentinel nodes: 0\\n',\n",
       " '      - Total number of nodes with macrometastases:        0\\n',\n",
       " '      - Total number of nodes with micrometastases:        0\\n',\n",
       " '      - Total number of nodes with isolated tumor cells:        0\\n',\n",
       " 'Minimum pathologic stage (AJCC, 7th ed., 2010)\\n',\n",
       " 'Primary tumor [pT]:        pT1b: Tumor > 0.5 cm and <= 1.0 cm - greatest dimension\\n',\n",
       " 'Regional nodes [pN]:        pN0(i-): No regional lymph node metastases histologically; negative IHC for ITCs\\n',\n",
       " 'N stage modifier:        (sn): Only sentinel node(s) evaluated.\\n',\n",
       " '\\n',\n",
       " '\\n',\n",
       " '\\n',\n",
       " '\\n',\n",
       " 'SUMMARY CANCER DATA:\\n',\n",
       " 'Specimen and procedure\\n',\n",
       " 'Procedure:        Excision with wire-guided localization\\n',\n",
       " 'Specimen laterality:        Left\\n',\n",
       " 'Invasive carcinoma with the following features:\\n',\n",
       " 'Histologic type:        Invasive ductal carcinoma, NOS (85003)\\n',\n",
       " 'Size (largest focus):        2.4cm   x 1.8cm\\n',\n",
       " 'Focality of invasive carcinoma:        Single contiguous focus\\n',\n",
       " 'Nottingham Grade:        Grade II: 6-7 points\\n',\n",
       " '    - Tubule Formation:        3 points (< 10%)\\n',\n",
       " '    - Nuclear Pleomorphism:        2 points (moderate)\\n',\n",
       " '    - Mitotic Activity:        1 point\\n',\n",
       " 'Ancillary Studies\\n',\n",
       " 'Source:        Outside pathology lab (slides reviewed)\\n',\n",
       " 'Estrogen receptor:        Positive (Allred score = 8 of 8)\\n',\n",
       " 'Progesterone receptor:        Positive (Allred score = 5 of 8)\\n',\n",
       " 'c-erb-B2 (Her-2/neu) by IHC:        Not performed/reported\\n',\n",
       " 'Her-2/neu by FISH:        Negative for Her-2/neu gene amplification by FISH\\n',\n",
       " 'Skin status:        Carcinoma invades dermal stroma of skin\\n',\n",
       " 'Nipple status:        Carcinoma invades dermal stroma of nipple\\n',\n",
       " 'Skeletal muscle status:        Skeletal muscle not present\\n',\n",
       " 'Ductal carcinoma in-situ (DCIS):        Present (85002)\\n',\n",
       " 'Nuclear grade of DCIS:        Intermediate\\n',\n",
       " 'DCIS qualifies as \"extensive intraductal component\"?:        Yes\\n',\n",
       " 'Lobular carcinoma in-situ (LCIS):        Absent\\n',\n",
       " 'Final surgical resection margins (including separately submitted margins):\\n',\n",
       " 'Invasive carcinoma margins:        Carcinoma >= 0.5 cm from all margins\\n',\n",
       " 'DCIS margin:        DCIS >= 0.5 cm from all margins\\n',\n",
       " 'Lymph node involvement\\n',\n",
       " 'Sentinel nodes:        Sentinel nodes with carcinoma 2    / Total sentinel nodes 2\\n',\n",
       " 'Non-sentinel nodes:        Non-sentinel nodes with carcinoma: 0    / Total non-sentinel nodes: 0\\n',\n",
       " '      - Total number of nodes with macrometastases:        2\\n',\n",
       " '      - Total number of nodes with micrometastases:        0\\n',\n",
       " '      - Total number of nodes with isolated tumor cells:        0\\n',\n",
       " '    Size of largest metastatic focus:        1.3cm\\n',\n",
       " 'Extracapsular Extension:        Present\\n',\n",
       " 'Minimum pathologic stage (AJCC, 7th ed., 2010)\\n',\n",
       " 'Primary tumor [pT]:        pT2: Tumor > 2.0 cm and <= 5.0 cm - greatest dimension\\n',\n",
       " 'Regional nodes [pN]:\\n',\n",
       " 'pN1a: Metastasis in 1 to 3 axillary lymph nodes (at least 1 tumor deposit greater than 2.0 mm)\\n',\n",
       " '\\n',\n",
       " '\\n',\n",
       " '\\n',\n",
       " '\\n',\n",
       " 'SUMMARY CANCER DATA:\\n',\n",
       " 'Specimen and tumor location\\n',\n",
       " 'Specimen type:        Resection, intact\\n',\n",
       " 'Tumor site - general:        Thorax (C49.3)\\n',\n",
       " 'Tumor site - detailed:        Left breast and skeletal muscle.\\n',\n",
       " 'Characteristics and extent of tumor\\n',\n",
       " 'Histologic type:        Pleomorphic sarcoma, undifferentiated (88303)\\n',\n",
       " 'Mitotic rate (mitoses/10 high-power fields):        52\\n',\n",
       " 'Percent necrosis (macroscopic or microscopic):        5%\\n',\n",
       " 'Histologic grade:        Differentiation: 3   Mitoses: 3   Necrosis: 1   Grade (FNCLCC): 3\\n',\n",
       " 'Tumor size:        5.1cm\\n',\n",
       " 'Macroscopic extent of tumor:        Deep intramuscular\\n',\n",
       " 'Therapy prior to surgery:        Unknown/history not provided\\n',\n",
       " 'Final surgical resection margins\\n',\n",
       " 'Margins:        Sarcoma within 1 cm of at least one margin\\n',\n",
       " 'Location and distance to close margin(s):\\n',\n",
       " 'Sarcoma is 0.1 cm to the posterior margin and greater than 4.0 cm from all other margins.\\n',\n",
       " 'Type of tissue at close margin:        Normal\\n',\n",
       " 'Minimum pathologic stage (AJCC, 7th ed., 2010)\\n',\n",
       " 'pT2b\\n',\n",
       " 'pNXSUMMARY CANCER DATA:\\n',\n",
       " 'Specimen and procedure\\n',\n",
       " 'Procedure:        Lumpectomy\\n',\n",
       " 'Specimen laterality:        Left\\n',\n",
       " 'Invasive carcinoma with the following features:\\n',\n",
       " 'Histologic type:        Invasive ductal carcinoma, NOS (85003)\\n',\n",
       " 'Size (largest focus):        0.1cm\\n',\n",
       " 'Focality of invasive carcinoma:        Single contiguous focus\\n',\n",
       " 'Nottingham Grade:        Grade III: 8-9 points\\n',\n",
       " '    - Tubule Formation:        3 points (< 10%)\\n',\n",
       " '    - Nuclear Pleomorphism:        3 points (severe)\\n',\n",
       " '    - Mitotic Activity:        3 points\\n',\n",
       " '    Comment about grade:\\n',\n",
       " 'Official Nottingham grade is challenging given the limited size, however, the morphologic features are most in keeping with a Nottingham grade III invasive ductal carcinoma.\\n',\n",
       " 'Ancillary Studies\\n',\n",
       " 'Source:        This case (pending; addendum report to follow)\\n',\n",
       " 'Estrogen receptor:        See comment\\n',\n",
       " 'Progesterone receptor:        See comment\\n',\n",
       " 'c-erb-B2 (her 2) by IHC:        See comment\\n',\n",
       " 'HER 2 by FISH:        Not performed/reported\\n',\n",
       " 'Ancillary studies comment:\\n',\n",
       " 'Breast prognostic/predictive markers have been ordered on the focus of microinvasive carcinoma, and will be reported in an addendum, provided there is enough residual invasive carcinoma present on IHC-stained slides appropriate for interpretation.\\n',\n",
       " 'Angiolymphatic Space Invasion:        Not identified\\n',\n",
       " 'Skin status:        Cannot assess (skin not present)\\n',\n",
       " 'Nipple status:        Cannot assess (nipple not present)\\n',\n",
       " 'Skeletal muscle status:        Skeletal muscle not present\\n',\n",
       " 'Ductal carcinoma in-situ (DCIS):        Present (85002)\\n',\n",
       " 'Nuclear grade of DCIS:        High\\n',\n",
       " 'Necrosis associated with DCIS:\\n',\n",
       " 'Present and central (expansive \"comedo\" necrosis)\\n',\n",
       " 'Distance spanned by DCIS:        3.3cm\\n',\n",
       " 'DCIS qualifies as \"extensive intraductal component\"?:        Yes\\n',\n",
       " '       Comment about DCIS:        See comment above.\\n',\n",
       " 'Changes consistent with previous biopsy site:        Present\\n',\n",
       " 'Microcalcifications:        Present in DCIS\\n',\n",
       " '       Microcalcifications comment:        Extensively associated with DCIS.\\n',\n",
       " 'Final surgical resection margins (including separately submitted margins):\\n',\n",
       " 'Invasive carcinoma margins:        Invasive carcinoma >= 0.5 cm from all margins\\n',\n",
       " 'DCIS margin:        DCIS >= 0.2 cm and < 0.5 cm from at least one margin\\n',\n",
       " 'DCIS Margins:        Please see margin details described above in final diagnosis section.\\n',\n",
       " 'Minimum pathologic stage (AJCC, 7th ed., 2010)\\n',\n",
       " 'TNM descriptors:        none\\n',\n",
       " 'Primary tumor [pT]:        pT1mic: Microinvasion <=  0.1 cm - greatest dimension in largest focus\\n',\n",
       " 'Regional nodes [pN]:        pNX: Cannot be assessed\\n',\n",
       " 'N stage modifier:        none\\n',\n",
       " 'Comment about stage assignment:        Please see comment above in final diagnosis section.\\n',\n",
       " '\\n',\n",
       " '\\n',\n",
       " '\\n',\n",
       " '\\n',\n",
       " 'SUMMARY CANCER DATA:\\n',\n",
       " 'Specimen and procedure\\n',\n",
       " 'Procedure:        Excision with wire-guided localization\\n',\n",
       " 'Specimen laterality:        Right\\n',\n",
       " 'Invasive carcinoma with the following features:\\n',\n",
       " 'Histologic type:        Invasive ductal carcinoma, NOS (85003)\\n',\n",
       " 'Size (largest focus):        1.6cm\\n',\n",
       " 'Focality of invasive carcinoma:        Single contiguous focus\\n',\n",
       " 'Nottingham Grade:        Grade III: 8-9 points\\n',\n",
       " '    - Tubule Formation:        3 points (< 10%)\\n',\n",
       " '    - Nuclear Pleomorphism:        3 points (severe)\\n',\n",
       " '    - Mitotic Activity:        3 points\\n',\n",
       " 'Ancillary Studies\\n',\n",
       " 'Source:        Outside pathology laboratory (by report only)\\n',\n",
       " 'Comment:        SU-16-14103\\n',\n",
       " 'Estrogen receptor:        See comment\\n',\n",
       " 'Progesterone receptor:        See comment\\n',\n",
       " 'c-erb-B2 (her 2) by IHC:        See comment\\n',\n",
       " 'HER 2 by FISH:        See Comment\\n',\n",
       " 'Studies other than IHC or FISH for Her-2/neu:\\n',\n",
       " 'Previous prognostic/predictive markers were reported as:\\n',\n",
       " 'Estrogen receptor expression positive (1-5%, weak nuclear staining).\\n',\n",
       " 'Progesterone receptor expression negative (less than 1%, weak nuclear staining).\\n',\n",
       " 'Equivocal for HER2 protein overexpression by IHC (2+).\\n',\n",
       " 'Equivocal for HER2 gene amplification by fluorescence in situ hybridization (average HER2 copy number: 4.2 signals per cell; average D17Z1 copy number:  2.2 signals per cell; HER2/D17Z1 ratio:  1.9).\\n',\n",
       " 'Ancillary studies comment:\\n',\n",
       " 'HER2 IHC was repeated on the current specimen and is NEGATIVE for overexpression.\\n',\n",
       " 'Angiolymphatic Space Invasion:        Not identified\\n',\n",
       " 'Skin status:        Cannot assess (skin not present)\\n',\n",
       " 'Nipple status:        Cannot assess (nipple not present)\\n',\n",
       " 'Skeletal muscle status:        Skeletal muscle not present\\n',\n",
       " 'Ductal carcinoma in-situ (DCIS):        Present (85002)\\n',\n",
       " 'Nuclear grade of DCIS:        High\\n',\n",
       " 'Necrosis associated with DCIS:\\n',\n",
       " 'Present but focal (small foci or single cell necrosis)\\n',\n",
       " 'Distance spanned by DCIS:        2cm\\n',\n",
       " 'DCIS qualifies as \"extensive intraductal component\"?:        No\\n',\n",
       " '       Comment about DCIS:\\n',\n",
       " 'There are scattered and isolated foci of DCIS that are present in association with, and extend beyond, the invasive component.\\n',\n",
       " 'Changes consistent with previous biopsy site:        Present\\n',\n",
       " 'Final surgical resection margins (including separately submitted margins):\\n',\n",
       " 'Invasive carcinoma margins:        Invasive carcinoma >= 0.5 cm from all margins\\n',\n",
       " 'DCIS margin:        DCIS < 0.2 cm from at least one margin\\n',\n",
       " 'DCIS Margins:\\n',\n",
       " 'DCIS is 0.2 cm to medial margin, <0.1 cm to anterior margin in 2 foci (0.2 cm and 0.1 cm spans), and <0.2 cm to inferior margin (estimated 0.6 cm span: DCIS involves 3 consecutive microscopic sections for a calculated span of 0.6 cm).\\n',\n",
       " 'Lymph node involvement\\n',\n",
       " 'Sentinel nodes:        Sentinel nodes with carcinoma 0    / Total sentinel nodes 2\\n',\n",
       " 'Non-sentinel nodes:        Non-sentinel nodes with carcinoma: 0    / Total non-sentinel nodes: 0\\n',\n",
       " '      - Total number of nodes with macrometastases:        0\\n',\n",
       " '      - Total number of nodes with micrometastases:        0\\n',\n",
       " '      - Total number of nodes with isolated tumor cells:        0\\n',\n",
       " 'Minimum pathologic stage (AJCC, 7th ed., 2010)\\n',\n",
       " 'TNM descriptors:        none\\n',\n",
       " 'Primary tumor [pT]:        pT1c: Tumor > 1.0 cm and <= 2.0 cm - greatest dimension\\n',\n",
       " 'Regional nodes [pN]:        pN0: No regional lymph node metastasis histologically (ITCs may be present)\\n',\n",
       " 'N stage modifier:        (sn): Only sentinel node(s) evaluated.\\n',\n",
       " '\\n',\n",
       " '\\n',\n",
       " '\\n',\n",
       " '\\n',\n",
       " '\\n',\n",
       " '\\n',\n",
       " '\\n',\n",
       " '\\n',\n",
       " 'Primary tumor [pT]:        pT1b: Tumor > 0.5 cm and <= 1.0 cm - greatest dimension\\n',\n",
       " 'Regional nodes [pN]:\\n',\n",
       " 'pN1a: Metastasis in 1 to 3 axillary lymph nodes (at least 1 tumor deposit greater than 2.0 mm)']"
      ]
     },
     "execution_count": 41,
     "metadata": {},
     "output_type": "execute_result"
    }
   ],
   "source": [
    "data"
   ]
  },
  {
   "cell_type": "code",
   "execution_count": null,
   "metadata": {
    "collapsed": true
   },
   "outputs": [],
   "source": []
  }
 ],
 "metadata": {
  "anaconda-cloud": {},
  "kernelspec": {
   "display_name": "Python [conda root]",
   "language": "python",
   "name": "conda-root-py"
  },
  "language_info": {
   "codemirror_mode": {
    "name": "ipython",
    "version": 3
   },
   "file_extension": ".py",
   "mimetype": "text/x-python",
   "name": "python",
   "nbconvert_exporter": "python",
   "pygments_lexer": "ipython3",
   "version": "3.5.2"
  }
 },
 "nbformat": 4,
 "nbformat_minor": 2
}
